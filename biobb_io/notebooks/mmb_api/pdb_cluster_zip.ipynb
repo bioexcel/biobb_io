{
 "cells": [
  {
   "cell_type": "code",
   "execution_count": 5,
   "metadata": {},
   "outputs": [],
   "source": [
    "# Import module to test\n",
    "from mmb_api.pdb_cluster_zip import MmbPdbClusterZip"
   ]
  },
  {
   "cell_type": "code",
   "execution_count": 6,
   "metadata": {},
   "outputs": [],
   "source": [
    "# Create prop dict and inputs/outputs\n",
    "prop = {'pdb_code':'2VGB'}\n",
    "output_pdb_zip_path = 'output_pdb_zip_path.zip'"
   ]
  },
  {
   "cell_type": "code",
   "execution_count": 7,
   "metadata": {},
   "outputs": [],
   "source": [
    "#Create and launch bb\n",
    "MmbPdbClusterZip(output_pdb_zip_path=output_pdb_zip_path, properties=prop).launch()"
   ]
  },
  {
   "cell_type": "code",
   "execution_count": 8,
   "metadata": {},
   "outputs": [
    {
     "name": "stdout",
     "output_type": "stream",
     "text": [
      "2018-06-08 10:57:23,456 [MainThread  ] [INFO ]  Cluster: 90 of pdb_code: 2vgb\r\n",
      " List: set([u'2vgb', u'4ima', u'2vgg', u'2vgf', u'2vgi', u'4ip7'])\r\n",
      "2018-06-08 10:57:23,456 [MainThread  ] [INFO ]  \r\n",
      "Downloading:\r\n",
      "pdb_code: 2vgb\r\n",
      "from: http://mmb.irbbarcelona.org/api/pdb/2vgb/coords/?filter=/1&group=ATOM\r\n",
      "2018-06-08 10:57:23,882 [MainThread  ] [INFO ]  \r\n",
      "Writting: 2vgb to: /home/pau/projects/biobb_io/notebooks/mmb_api/2vgb.pdb\r\n",
      "2018-06-08 10:57:23,883 [MainThread  ] [INFO ]  \r\n",
      "Downloading:\r\n",
      "pdb_code: 4ima\r\n",
      "from: http://mmb.irbbarcelona.org/api/pdb/4ima/coords/?filter=/1&group=ATOM\r\n",
      "2018-06-08 10:57:24,311 [MainThread  ] [INFO ]  \r\n",
      "Writting: 4ima to: /home/pau/projects/biobb_io/notebooks/mmb_api/4ima.pdb\r\n",
      "2018-06-08 10:57:24,311 [MainThread  ] [INFO ]  \r\n",
      "Downloading:\r\n",
      "pdb_code: 2vgg\r\n",
      "from: http://mmb.irbbarcelona.org/api/pdb/2vgg/coords/?filter=/1&group=ATOM\r\n",
      "2018-06-08 10:57:24,675 [MainThread  ] [INFO ]  \r\n",
      "Writting: 2vgg to: /home/pau/projects/biobb_io/notebooks/mmb_api/2vgg.pdb\r\n",
      "2018-06-08 10:57:24,676 [MainThread  ] [INFO ]  \r\n",
      "Downloading:\r\n",
      "pdb_code: 2vgf\r\n",
      "from: http://mmb.irbbarcelona.org/api/pdb/2vgf/coords/?filter=/1&group=ATOM\r\n",
      "2018-06-08 10:57:25,046 [MainThread  ] [INFO ]  \r\n",
      "Writting: 2vgf to: /home/pau/projects/biobb_io/notebooks/mmb_api/2vgf.pdb\r\n",
      "2018-06-08 10:57:25,047 [MainThread  ] [INFO ]  \r\n",
      "Downloading:\r\n",
      "pdb_code: 2vgi\r\n",
      "from: http://mmb.irbbarcelona.org/api/pdb/2vgi/coords/?filter=/1&group=ATOM\r\n",
      "2018-06-08 10:57:25,413 [MainThread  ] [INFO ]  \r\n",
      "Writting: 2vgi to: /home/pau/projects/biobb_io/notebooks/mmb_api/2vgi.pdb\r\n",
      "2018-06-08 10:57:25,414 [MainThread  ] [INFO ]  \r\n",
      "Downloading:\r\n",
      "pdb_code: 4ip7\r\n",
      "from: http://mmb.irbbarcelona.org/api/pdb/4ip7/coords/?filter=/1&group=ATOM\r\n",
      "2018-06-08 10:57:25,872 [MainThread  ] [INFO ]  \r\n",
      "Writting: 4ip7 to: /home/pau/projects/biobb_io/notebooks/mmb_api/4ip7.pdb\r\n",
      "2018-06-08 10:57:25,873 [MainThread  ] [INFO ]  Zipping the pdb files to: output_pdb_zip_path.zip\r\n",
      "2018-06-08 10:59:45,288 [MainThread  ] [INFO ]  Cluster: 90 of pdb_code: 2vgb\r\n",
      " List: set([u'2vgb', u'4ima', u'2vgg', u'2vgf', u'2vgi', u'4ip7'])\r\n",
      "2018-06-08 10:59:45,288 [MainThread  ] [INFO ]  Cluster: 90 of pdb_code: 2vgb\r\n",
      " List: set([u'2vgb', u'4ima', u'2vgg', u'2vgf', u'2vgi', u'4ip7'])\r\n",
      "2018-06-08 10:59:45,289 [MainThread  ] [INFO ]  \r\n",
      "Downloading:\r\n",
      "pdb_code: 2vgb\r\n",
      "from: http://mmb.irbbarcelona.org/api/pdb/2vgb/coords/?filter=/1&group=ATOM\r\n",
      "2018-06-08 10:59:45,289 [MainThread  ] [INFO ]  \r\n",
      "Downloading:\r\n",
      "pdb_code: 2vgb\r\n",
      "from: http://mmb.irbbarcelona.org/api/pdb/2vgb/coords/?filter=/1&group=ATOM\r\n",
      "2018-06-08 10:59:45,660 [MainThread  ] [INFO ]  \r\n",
      "Writting: 2vgb to: /home/pau/projects/biobb_io/notebooks/mmb_api/2vgb.pdb\r\n",
      "2018-06-08 10:59:45,660 [MainThread  ] [INFO ]  \r\n",
      "Writting: 2vgb to: /home/pau/projects/biobb_io/notebooks/mmb_api/2vgb.pdb\r\n",
      "2018-06-08 10:59:45,662 [MainThread  ] [INFO ]  \r\n",
      "Downloading:\r\n",
      "pdb_code: 4ima\r\n",
      "from: http://mmb.irbbarcelona.org/api/pdb/4ima/coords/?filter=/1&group=ATOM\r\n",
      "2018-06-08 10:59:45,662 [MainThread  ] [INFO ]  \r\n",
      "Downloading:\r\n",
      "pdb_code: 4ima\r\n",
      "from: http://mmb.irbbarcelona.org/api/pdb/4ima/coords/?filter=/1&group=ATOM\r\n",
      "2018-06-08 10:59:46,026 [MainThread  ] [INFO ]  \r\n",
      "Writting: 4ima to: /home/pau/projects/biobb_io/notebooks/mmb_api/4ima.pdb\r\n",
      "2018-06-08 10:59:46,026 [MainThread  ] [INFO ]  \r\n",
      "Writting: 4ima to: /home/pau/projects/biobb_io/notebooks/mmb_api/4ima.pdb\r\n",
      "2018-06-08 10:59:46,028 [MainThread  ] [INFO ]  \r\n",
      "Downloading:\r\n",
      "pdb_code: 2vgg\r\n",
      "from: http://mmb.irbbarcelona.org/api/pdb/2vgg/coords/?filter=/1&group=ATOM\r\n",
      "2018-06-08 10:59:46,028 [MainThread  ] [INFO ]  \r\n",
      "Downloading:\r\n",
      "pdb_code: 2vgg\r\n",
      "from: http://mmb.irbbarcelona.org/api/pdb/2vgg/coords/?filter=/1&group=ATOM\r\n",
      "2018-06-08 10:59:46,386 [MainThread  ] [INFO ]  \r\n",
      "Writting: 2vgg to: /home/pau/projects/biobb_io/notebooks/mmb_api/2vgg.pdb\r\n",
      "2018-06-08 10:59:46,386 [MainThread  ] [INFO ]  \r\n",
      "Writting: 2vgg to: /home/pau/projects/biobb_io/notebooks/mmb_api/2vgg.pdb\r\n",
      "2018-06-08 10:59:46,387 [MainThread  ] [INFO ]  \r\n",
      "Downloading:\r\n",
      "pdb_code: 2vgf\r\n",
      "from: http://mmb.irbbarcelona.org/api/pdb/2vgf/coords/?filter=/1&group=ATOM\r\n",
      "2018-06-08 10:59:46,387 [MainThread  ] [INFO ]  \r\n",
      "Downloading:\r\n",
      "pdb_code: 2vgf\r\n",
      "from: http://mmb.irbbarcelona.org/api/pdb/2vgf/coords/?filter=/1&group=ATOM\r\n",
      "2018-06-08 10:59:46,751 [MainThread  ] [INFO ]  \r\n",
      "Writting: 2vgf to: /home/pau/projects/biobb_io/notebooks/mmb_api/2vgf.pdb\r\n",
      "2018-06-08 10:59:46,751 [MainThread  ] [INFO ]  \r\n",
      "Writting: 2vgf to: /home/pau/projects/biobb_io/notebooks/mmb_api/2vgf.pdb\r\n",
      "2018-06-08 10:59:46,753 [MainThread  ] [INFO ]  \r\n",
      "Downloading:\r\n",
      "pdb_code: 2vgi\r\n",
      "from: http://mmb.irbbarcelona.org/api/pdb/2vgi/coords/?filter=/1&group=ATOM\r\n",
      "2018-06-08 10:59:46,753 [MainThread  ] [INFO ]  \r\n",
      "Downloading:\r\n",
      "pdb_code: 2vgi\r\n",
      "from: http://mmb.irbbarcelona.org/api/pdb/2vgi/coords/?filter=/1&group=ATOM\r\n",
      "2018-06-08 10:59:47,313 [MainThread  ] [INFO ]  \r\n",
      "Writting: 2vgi to: /home/pau/projects/biobb_io/notebooks/mmb_api/2vgi.pdb\r\n",
      "2018-06-08 10:59:47,313 [MainThread  ] [INFO ]  \r\n",
      "Writting: 2vgi to: /home/pau/projects/biobb_io/notebooks/mmb_api/2vgi.pdb\r\n",
      "2018-06-08 10:59:47,315 [MainThread  ] [INFO ]  \r\n",
      "Downloading:\r\n",
      "pdb_code: 4ip7\r\n",
      "from: http://mmb.irbbarcelona.org/api/pdb/4ip7/coords/?filter=/1&group=ATOM\r\n",
      "2018-06-08 10:59:47,315 [MainThread  ] [INFO ]  \r\n",
      "Downloading:\r\n",
      "pdb_code: 4ip7\r\n",
      "from: http://mmb.irbbarcelona.org/api/pdb/4ip7/coords/?filter=/1&group=ATOM\r\n",
      "2018-06-08 10:59:47,762 [MainThread  ] [INFO ]  \r\n",
      "Writting: 4ip7 to: /home/pau/projects/biobb_io/notebooks/mmb_api/4ip7.pdb\r\n",
      "2018-06-08 10:59:47,762 [MainThread  ] [INFO ]  \r\n",
      "Writting: 4ip7 to: /home/pau/projects/biobb_io/notebooks/mmb_api/4ip7.pdb\r\n",
      "2018-06-08 10:59:47,763 [MainThread  ] [INFO ]  Zipping the pdb files to: output_pdb_zip_path.zip\r\n",
      "2018-06-08 10:59:47,763 [MainThread  ] [INFO ]  Zipping the pdb files to: output_pdb_zip_path.zip\r\n"
     ]
    }
   ],
   "source": [
    "#Show log\n",
    "!cat log.out"
   ]
  },
  {
   "cell_type": "code",
   "execution_count": 9,
   "metadata": {},
   "outputs": [],
   "source": [
    "#Unzip list\n",
    "from biobb_common.tools.file_utils import unzip_list\n",
    "file_list = unzip_list(output_pdb_zip_path)"
   ]
  },
  {
   "cell_type": "code",
   "execution_count": 10,
   "metadata": {},
   "outputs": [
    {
     "name": "stdout",
     "output_type": "stream",
     "text": [
      "/home/pau/projects/biobb_io/notebooks/mmb_api/2vgb.pdb:\n",
      "ATOM      1  N   GLN A  57       0.225  -3.189  45.173  1.00 54.11           N  \n",
      "ATOM      2  CA  GLN A  57       1.221  -4.173  44.690  1.00 54.45           C  \n",
      "ATOM      3  C   GLN A  57       2.644  -3.666  44.911  1.00 54.13           C  \n",
      "\n",
      "/home/pau/projects/biobb_io/notebooks/mmb_api/4ima.pdb:\n",
      "ATOM      1  N   LEU A  16      15.143 -10.504  11.546  1.00 75.63           N  \n",
      "ATOM      2  CA  LEU A  16      15.689 -11.598  12.342  1.00 77.79           C  \n",
      "ATOM      3  C   LEU A  16      15.114 -12.942  11.892  1.00 83.30           C  \n",
      "\n",
      "/home/pau/projects/biobb_io/notebooks/mmb_api/2vgg.pdb:\n",
      "ATOM      1  N   ALA A  64       4.863  -2.118  36.687  1.00 94.37           N  \n",
      "ATOM      2  CA  ALA A  64       5.650  -2.758  35.561  1.00 94.27           C  \n",
      "ATOM      3  C   ALA A  64       4.728  -3.372  34.469  1.00 93.99           C  \n",
      "\n",
      "/home/pau/projects/biobb_io/notebooks/mmb_api/2vgf.pdb:\n",
      "ATOM      1  N   GLN A  57      -0.573  -2.973  44.216  1.00 27.28           N  \n",
      "ATOM      2  CA  GLN A  57       0.416  -4.086  44.343  1.00 27.42           C  \n",
      "ATOM      3  C   GLN A  57       1.798  -3.602  44.806  1.00 26.65           C  \n",
      "\n",
      "/home/pau/projects/biobb_io/notebooks/mmb_api/2vgi.pdb:\n",
      "ATOM      1  N   GLN A  57       0.700  -4.037  44.997  1.00  2.00           N  \n",
      "ATOM      2  CA  GLN A  57       1.828  -4.934  44.511  1.00  2.00           C  \n",
      "ATOM      3  C   GLN A  57       3.262  -4.453  44.724  1.00  2.00           C  \n",
      "\n",
      "/home/pau/projects/biobb_io/notebooks/mmb_api/4ip7.pdb:\n",
      "ATOM      1  N   GLN A  26      21.841 -16.811  19.785  1.00 66.01           N  \n",
      "ATOM      2  CA  GLN A  26      22.648 -16.276  20.928  1.00 67.34           C  \n",
      "ATOM      3  C   GLN A  26      23.848 -17.152  21.259  1.00 66.31           C  \n",
      "\n"
     ]
    }
   ],
   "source": [
    "#Show result\n",
    "for file_path in file_list:\n",
    "    print file_path+':'\n",
    "    max_lines = 3\n",
    "    with open(file_path) as f:\n",
    "        print \"\".join([next(f) for x in xrange(max_lines)])"
   ]
  },
  {
   "cell_type": "code",
   "execution_count": 11,
   "metadata": {},
   "outputs": [
    {
     "data": {
      "application/vnd.jupyter.widget-view+json": {
       "model_id": "57aba2b75cdb4b68b29fea32e51465c9",
       "version_major": 2,
       "version_minor": 0
      },
      "text/plain": [
       "NGLWidget()"
      ]
     },
     "metadata": {},
     "output_type": "display_data"
    }
   ],
   "source": [
    "#Always run nglview with Mozilla Firefox\n",
    "#Might need to run: jupyter-nbextension enable nglview --py --sys-prefix\n",
    "#before launch jupyter-notebook in order to enable nglview command  \n",
    "#Visualize resul with nglview\n",
    "import nglview\n",
    "view = nglview.show_file(file_list[0])\n",
    "view"
   ]
  },
  {
   "cell_type": "code",
   "execution_count": 12,
   "metadata": {},
   "outputs": [
    {
     "name": "stdout",
     "output_type": "stream",
     "text": [
      "./.ipynb_checkpoints\r\n",
      "./log.err\r\n",
      "./2vgb.pdb\r\n",
      "./2vgi.pdb\r\n",
      "./4ima.pdb\r\n",
      "./2vgg.pdb\r\n",
      "./4ip7.pdb\r\n",
      "./output_pdb_zip_path.zip\r\n",
      "./2vgf.pdb\r\n",
      "./log.out\r\n"
     ]
    }
   ],
   "source": [
    "#Clean the directory\n",
    "!find . ! -iname \"*.ipynb\" -exec rm -rf {} 2>/dev/null \\; -print"
   ]
  },
  {
   "cell_type": "code",
   "execution_count": null,
   "metadata": {},
   "outputs": [],
   "source": []
  }
 ],
 "metadata": {
  "kernelspec": {
   "display_name": "Python 2",
   "language": "python",
   "name": "python2"
  },
  "language_info": {
   "codemirror_mode": {
    "name": "ipython",
    "version": 2
   },
   "file_extension": ".py",
   "mimetype": "text/x-python",
   "name": "python",
   "nbconvert_exporter": "python",
   "pygments_lexer": "ipython2",
   "version": "2.7.15"
  }
 },
 "nbformat": 4,
 "nbformat_minor": 2
}
