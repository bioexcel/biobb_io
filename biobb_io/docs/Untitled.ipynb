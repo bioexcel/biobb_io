{
 "cells": [
  {
   "cell_type": "code",
   "execution_count": 3,
   "metadata": {},
   "outputs": [
    {
     "data": {
      "text/html": [
       "<style>\n",
       "    .prompt{width: 0px; min-width: 0px; visibility: collapse}\n",
       "</style>\n"
      ],
      "text/plain": [
       "<IPython.core.display.HTML object>"
      ]
     },
     "metadata": {},
     "output_type": "display_data"
    }
   ],
   "source": [
    "%%html\n",
    "<style>\n",
    "    .prompt{width: 0px; min-width: 0px; visibility: collapse}\n",
    "</style>"
   ]
  },
  {
   "cell_type": "code",
   "execution_count": 10,
   "metadata": {},
   "outputs": [
    {
     "name": "stdout",
     "output_type": "stream",
     "text": [
      "usage: pdb [-h] [-c CONFIG] [--system SYSTEM] [--step STEP] -o OUTPUT_PDB_PATH\n",
      "\n",
      "Wrapper for the PDB (http://www.rcsb.org/pdb/home/home.do) mirror of the MMB\n",
      "group REST API (http://mmb.irbbarcelona.org/api/)\n",
      "\n",
      "optional arguments:\n",
      "  -h, --help            show this help message and exit\n",
      "  -c CONFIG, --config CONFIG\n",
      "  --system SYSTEM\n",
      "  --step STEP\n",
      "\n",
      "required arguments:\n",
      "  -o OUTPUT_PDB_PATH, --output_pdb_path OUTPUT_PDB_PATH\n",
      "                        Output file name\n"
     ]
    }
   ],
   "source": [
    "%%bash\n",
    "pdb -h"
   ]
  },
  {
   "cell_type": "code",
   "execution_count": 6,
   "metadata": {},
   "outputs": [
    {
     "name": "stdout",
     "output_type": "stream",
     "text": [
      "/anaconda3/envs/dev/bin/pdb\n"
     ]
    }
   ],
   "source": [
    "%%bash\n",
    "which pdb"
   ]
  },
  {
   "cell_type": "code",
   "execution_count": 7,
   "metadata": {},
   "outputs": [
    {
     "name": "stdout",
     "output_type": "stream",
     "text": [
      "lrwxr-xr-x  1 pau  staff  52 Jan 31 18:56 /anaconda3/envs/dev/bin/pdb -> /Users/pau/projects/biobb_io/biobb_io/mmb_api/pdb.py\n"
     ]
    }
   ],
   "source": [
    "%%bash\n",
    "ls -la /anaconda3/envs/dev/bin/pdb"
   ]
  },
  {
   "cell_type": "code",
   "execution_count": 9,
   "metadata": {},
   "outputs": [
    {
     "name": "stdout",
     "output_type": "stream",
     "text": [
      "usage: pdb [-h] [--config CONFIG] [--system SYSTEM] [--step STEP]\n",
      "           --output_pdb_path OUTPUT_PDB_PATH\n",
      "\n",
      "Wrapper for the PDB (http://www.rcsb.org/pdb/home/home.do) mirror of the MMB\n",
      "group REST API (http://mmb.irbbarcelona.org/api/)\n",
      "\n",
      "optional arguments:\n",
      "  -h, --help            show this help message and exit\n",
      "  --config CONFIG\n",
      "  --system SYSTEM\n",
      "  --step STEP\n",
      "  --output_pdb_path OUTPUT_PDB_PATH\n"
     ]
    }
   ],
   "source": [
    "%%bash\n",
    "pdb -h"
   ]
  }
 ],
 "metadata": {
  "kernelspec": {
   "display_name": "Python 3",
   "language": "python",
   "name": "python3"
  },
  "language_info": {
   "codemirror_mode": {
    "name": "ipython",
    "version": 3
   },
   "file_extension": ".py",
   "mimetype": "text/x-python",
   "name": "python",
   "nbconvert_exporter": "python",
   "pygments_lexer": "ipython3",
   "version": "3.5.5"
  }
 },
 "nbformat": 4,
 "nbformat_minor": 2
}
