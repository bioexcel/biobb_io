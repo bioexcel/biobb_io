{
 "cells": [
  {
   "cell_type": "code",
   "execution_count": 1,
   "metadata": {},
   "outputs": [],
   "source": [
    "# Import module to test\n",
    "from mmb_api.pdb import MmbPdb"
   ]
  },
  {
   "cell_type": "code",
   "execution_count": 2,
   "metadata": {},
   "outputs": [],
   "source": [
    "# Create prop dict and inputs/outputs\n",
    "prop = {'pdb_code':'2VGB'}\n",
    "output_pdb_path = '2VGB.pdb'"
   ]
  },
  {
   "cell_type": "code",
   "execution_count": 3,
   "metadata": {},
   "outputs": [],
   "source": [
    "#Create and launch bb\n",
    "MmbPdb(output_pdb_path=output_pdb_path, properties=prop).launch()"
   ]
  },
  {
   "cell_type": "code",
   "execution_count": 9,
   "metadata": {},
   "outputs": [
    {
     "name": "stdout",
     "output_type": "stream",
     "text": [
      "2018-05-17 17:25:21,678 [MainThread  ] [INFO ]  \r\n",
      "Downloading:\r\n",
      "pdb_code: 2vgb\r\n",
      "from: http://mmb.irbbarcelona.org/api/pdb/2vgb/coords/?filter=/1&group=ATOM\r\n",
      "2018-05-17 17:25:22,367 [MainThread  ] [INFO ]  \r\n",
      "Writting: 2vgb\r\n",
      "to: /home/pau/projects/biobb_io/notebooks/mmb_api/2VGB.pdb\r\n"
     ]
    }
   ],
   "source": [
    "#Show log\n",
    "!cat log.out"
   ]
  },
  {
   "cell_type": "code",
   "execution_count": 10,
   "metadata": {},
   "outputs": [
    {
     "name": "stdout",
     "output_type": "stream",
     "text": [
      "ATOM      1  N   GLN A  57       0.225  -3.189  45.173  1.00 54.11           N  \n",
      "ATOM      2  CA  GLN A  57       1.221  -4.173  44.690  1.00 54.45           C  \n",
      "ATOM      3  C   GLN A  57       2.644  -3.666  44.911  1.00 54.13           C  \n",
      "ATOM      4  O   GLN A  57       2.870  -2.501  45.263  1.00 54.16           O  \n",
      "ATOM      5  CB  GLN A  57       1.003  -4.501  43.205  1.00 54.71           C  \n",
      "ATOM      6  CG  GLN A  57      -0.173  -5.447  42.921  1.00 57.44           C  \n",
      "ATOM      7  CD  GLN A  57       0.025  -6.890  43.451  1.00 60.72           C  \n",
      "ATOM      8  OE1 GLN A  57       1.157  -7.379  43.590  1.00 61.39           O  \n",
      "ATOM      9  NE2 GLN A  57      -1.091  -7.573  43.728  1.00 60.49           N  \n",
      "ATOM     10  N   GLN A  58       3.595  -4.562  44.682  1.00 53.46           N  \n",
      "\n"
     ]
    }
   ],
   "source": [
    "#Show result\n",
    "max_lines = 10\n",
    "with open(output_pdb_path) as f:\n",
    "    print \"\".join([next(f) for x in xrange(max_lines)])"
   ]
  },
  {
   "cell_type": "code",
   "execution_count": 12,
   "metadata": {},
   "outputs": [
    {
     "data": {
      "application/vnd.jupyter.widget-view+json": {
       "model_id": "79856618b0a24411a88fa21c344f26d0",
       "version_major": 2,
       "version_minor": 0
      },
      "text/plain": [
       "NGLWidget()"
      ]
     },
     "metadata": {},
     "output_type": "display_data"
    }
   ],
   "source": [
    "#Visualize resul with nglview\n",
    "import nglview\n",
    "view = nglview.show_file(output_pdb_path)\n",
    "view"
   ]
  },
  {
   "cell_type": "code",
   "execution_count": 20,
   "metadata": {},
   "outputs": [
    {
     "name": "stdout",
     "output_type": "stream",
     "text": [
      "./hola.txt\r\n"
     ]
    }
   ],
   "source": [
    "#Clean the directory\n",
    "!find . ! -iname *.ipynb -exec rm -rf {} 2>/dev/null \\; -print"
   ]
  }
 ],
 "metadata": {
  "kernelspec": {
   "display_name": "Python 2",
   "language": "python",
   "name": "python2"
  },
  "language_info": {
   "codemirror_mode": {
    "name": "ipython",
    "version": 2
   },
   "file_extension": ".py",
   "mimetype": "text/x-python",
   "name": "python",
   "nbconvert_exporter": "python",
   "pygments_lexer": "ipython2",
   "version": "2.7.15"
  }
 },
 "nbformat": 4,
 "nbformat_minor": 2
}
