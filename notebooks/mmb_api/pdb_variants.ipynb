{
 "cells": [
  {
   "cell_type": "code",
   "execution_count": 1,
   "metadata": {},
   "outputs": [],
   "source": [
    "# Import module to test\n",
    "from mmb_api.pdb_variants import MmbPdbVariants"
   ]
  },
  {
   "cell_type": "code",
   "execution_count": 2,
   "metadata": {},
   "outputs": [],
   "source": [
    "# Create prop dict and inputs/outputs\n",
    "prop = {'pdb_code':'2VGB'}\n",
    "output_mutations_list_txt = 'output_mutations_list_txt.txt'"
   ]
  },
  {
   "cell_type": "code",
   "execution_count": 3,
   "metadata": {},
   "outputs": [],
   "source": [
    "#Create and launch bb\n",
    "MmbPdbVariants(output_mutations_list_txt=output_mutations_list_txt, properties=prop).launch()"
   ]
  },
  {
   "cell_type": "code",
   "execution_count": 19,
   "metadata": {},
   "outputs": [
    {
     "name": "stdout",
     "output_type": "stream",
     "text": [
      "2018-05-23 19:25:24,154 [MainThread  ] [INFO ]  PDB code: 2VGB correspond to uniprot id: P30613\r\n",
      "2018-05-23 19:25:24,155 [MainThread  ] [INFO ]  Fetching variants for uniprot_id: P30613 and pdb_code: 2VGB\r\n",
      "2018-05-23 19:25:26,903 [MainThread  ] [INFO ]  Found: 107 variants for uniprot id: P30613\r\n",
      "2018-05-23 19:25:26,911 [MainThread  ] [INFO ]  [u'p.Met107Thr', u'p.Val134Asp', u'p.Leu155Pro', u'p.Glu172Gln', u'p.Arg163Cys', u'p.Gly275Arg', u'p.Asp281Asn', u'p.Phe287Val', u'p.Ile314Thr', u'p.Asp331Glu', u'p.Gly332Ser', u'p.Ala336Ser', u'p.Arg337Pro', u'p.Arg337Gln', u'p.Asp339His', u'p.Gly341Ala', u'p.Ile357Thr', u'p.Arg359Cys', u'p.Arg359His', u'p.Asn361Asp', u'p.Val368Phe', u'p.Thr384Met', u'p.Ala392Thr', u'p.Asn393Lys', u'p.Asn393Ser', u'p.Thr408Ile', u'p.Gln421Lys', u'p.Arg426Gln', u'p.Arg426Trp', u'p.Ala431Thr', u'p.Gly458Asp', u'p.Ala459Val', u'p.Val460Met', u'p.Ala468Val', u'p.Arg486Trp', u'p.Arg490Trp', u'p.Ala495Val', u'p.Arg498Cys', u'p.Arg498His', u'p.Arg510Gln', u'p.Arg532Gln', u'p.Arg532Trp', u'p.Val552Met', u'p.Arg559Gly', u'p.Asn566Lys', u'p.Gly37Glu', u'p.Ser80Pro', u'p.Arg86Pro', u'p.Ile90Asn', u'p.Gly95Arg', u'p.Gly111Arg', u'p.Ala115Pro', u'p.Ser120Phe', u'p.Ser130Tyr', u'p.Gly159Val', u'p.Gly222Ala', u'p.Asp293Asn', u'p.Gly263Arg', u'p.Gly263Trp', u'p.Val288Leu', u'p.Ala295Val', u'p.Ile310Asn', u'p.Glu315Lys', u'p.Asp331Asn', u'p.Gly341Asp', u'p.Ile342Phe', u'p.Lys348Asn', u'p.Gly364Asp', u'p.Ser376Ile', u'p.Glu387Gly', u'p.Asp390Asn', u'p.Ala394Asp', u'p.Ala394Val', u'p.Thr408Ala', u'p.Glu427Ala', u'p.Glu427Asp', u'p.Thr477Ala', u'p.Ser485Phe', u'p.Arg488Gln', u'p.Ala495Thr', u'p.Arg504Leu', u'p.Gly511Arg', u'p.Arg531Cys', u'p.Ile153Thr', u'p.Ile219Thr', u'p.Val335Met', u'p.Ala352Asp', u'p.Arg385Trp', u'p.Ala468Gly', u'p.Arg479His', u'p.Gly557Ala', u'p.Arg569Gln', u'p.Val506Ile', u'p.Arg40Trp', u'p.Leu73Pro', u'p.Ala154Thr', u'p.Arg163Leu', u'p.Gly165Val', u'p.Leu272Val', u'p.Val320Leu', u'p.Gly358Glu', u'p.Leu374Pro', u'p.Ile314Thr', u'p.Arg426Trp', u'p.Gly111Arg', u'p.Gly364Asp', u'p.Ala394Asp']\r\n",
      "2018-05-23 19:25:26,916 [MainThread  ] [INFO ]  Found 419 mutations mapped to PDB: 2VGB\r\n",
      "2018-05-23 19:25:26,916 [MainThread  ] [INFO ]  [u'A.Met107Thr', u'B.Met107Thr', u'C.Met107Thr', u'D.Met107Thr', u'A.Val134Asp', u'B.Val134Asp', u'C.Val134Asp', u'D.Val134Asp', u'A.Leu155Pro', u'B.Leu155Pro', u'C.Leu155Pro', u'D.Leu155Pro', u'A.Glu172Gln', u'C.Glu172Gln', u'D.Glu172Gln', u'A.Arg163Cys', u'B.Arg163Cys', u'C.Arg163Cys', u'D.Arg163Cys', u'A.Gly275Arg', u'B.Gly275Arg', u'C.Gly275Arg', u'D.Gly275Arg', u'A.Asp281Asn', u'B.Asp281Asn', u'C.Asp281Asn', u'D.Asp281Asn', u'A.Phe287Val', u'B.Phe287Val', u'C.Phe287Val', u'D.Phe287Val', u'A.Ile314Thr', u'B.Ile314Thr', u'C.Ile314Thr', u'D.Ile314Thr', u'A.Asp331Glu', u'B.Asp331Glu', u'C.Asp331Glu', u'D.Asp331Glu', u'A.Gly332Ser', u'B.Gly332Ser', u'C.Gly332Ser', u'D.Gly332Ser', u'A.Ala336Ser', u'B.Ala336Ser', u'C.Ala336Ser', u'D.Ala336Ser', u'A.Arg337Pro', u'B.Arg337Pro', u'C.Arg337Pro', u'D.Arg337Pro', u'A.Arg337Gln', u'B.Arg337Gln', u'C.Arg337Gln', u'D.Arg337Gln', u'A.Asp339His', u'B.Asp339His', u'C.Asp339His', u'D.Asp339His', u'A.Gly341Ala', u'B.Gly341Ala', u'C.Gly341Ala', u'D.Gly341Ala', u'A.Ile357Thr', u'B.Ile357Thr', u'C.Ile357Thr', u'D.Ile357Thr', u'A.Arg359Cys', u'B.Arg359Cys', u'C.Arg359Cys', u'D.Arg359Cys', u'A.Arg359His', u'B.Arg359His', u'C.Arg359His', u'D.Arg359His', u'A.Asn361Asp', u'B.Asn361Asp', u'C.Asn361Asp', u'D.Asn361Asp', u'A.Val368Phe', u'B.Val368Phe', u'C.Val368Phe', u'D.Val368Phe', u'A.Thr384Met', u'B.Thr384Met', u'C.Thr384Met', u'D.Thr384Met', u'A.Ala392Thr', u'B.Ala392Thr', u'C.Ala392Thr', u'D.Ala392Thr', u'A.Asn393Lys', u'B.Asn393Lys', u'C.Asn393Lys', u'D.Asn393Lys', u'A.Asn393Ser', u'B.Asn393Ser', u'C.Asn393Ser', u'D.Asn393Ser', u'A.Thr408Ile', u'B.Thr408Ile', u'C.Thr408Ile', u'D.Thr408Ile', u'A.Gln421Lys', u'B.Gln421Lys', u'C.Gln421Lys', u'D.Gln421Lys', u'A.Arg426Gln', u'B.Arg426Gln', u'C.Arg426Gln', u'D.Arg426Gln', u'A.Arg426Trp', u'B.Arg426Trp', u'C.Arg426Trp', u'D.Arg426Trp', u'A.Ala431Thr', u'B.Ala431Thr', u'C.Ala431Thr', u'D.Ala431Thr', u'A.Gly458Asp', u'B.Gly458Asp', u'C.Gly458Asp', u'D.Gly458Asp', u'A.Ala459Val', u'B.Ala459Val', u'C.Ala459Val', u'D.Ala459Val', u'A.Val460Met', u'B.Val460Met', u'C.Val460Met', u'D.Val460Met', u'A.Ala468Val', u'B.Ala468Val', u'C.Ala468Val', u'D.Ala468Val', u'A.Arg486Trp', u'B.Arg486Trp', u'C.Arg486Trp', u'D.Arg486Trp', u'A.Arg490Trp', u'B.Arg490Trp', u'C.Arg490Trp', u'D.Arg490Trp', u'A.Ala495Val', u'B.Ala495Val', u'C.Ala495Val', u'D.Ala495Val', u'A.Arg498Cys', u'B.Arg498Cys', u'C.Arg498Cys', u'D.Arg498Cys', u'A.Arg498His', u'B.Arg498His', u'C.Arg498His', u'D.Arg498His', u'A.Arg510Gln', u'B.Arg510Gln', u'C.Arg510Gln', u'D.Arg510Gln', u'A.Arg532Gln', u'B.Arg532Gln', u'C.Arg532Gln', u'D.Arg532Gln', u'A.Arg532Trp', u'B.Arg532Trp', u'C.Arg532Trp', u'D.Arg532Trp', u'A.Val552Met', u'B.Val552Met', u'C.Val552Met', u'D.Val552Met', u'A.Arg559Gly', u'B.Arg559Gly', u'C.Arg559Gly', u'D.Arg559Gly', u'A.Asn566Lys', u'B.Asn566Lys', u'C.Asn566Lys', u'D.Asn566Lys', u'A.Ser80Pro', u'B.Ser80Pro', u'C.Ser80Pro', u'D.Ser80Pro', u'A.Arg86Pro', u'B.Arg86Pro', u'C.Arg86Pro', u'D.Arg86Pro', u'A.Ile90Asn', u'B.Ile90Asn', u'C.Ile90Asn', u'D.Ile90Asn', u'A.Gly95Arg', u'B.Gly95Arg', u'C.Gly95Arg', u'D.Gly95Arg', u'A.Gly111Arg', u'B.Gly111Arg', u'C.Gly111Arg', u'D.Gly111Arg', u'A.Ala115Pro', u'B.Ala115Pro', u'C.Ala115Pro', u'D.Ala115Pro', u'A.Ser120Phe', u'B.Ser120Phe', u'C.Ser120Phe', u'D.Ser120Phe', u'A.Ser130Tyr', u'B.Ser130Tyr', u'C.Ser130Tyr', u'D.Ser130Tyr', u'A.Gly159Val', u'B.Gly159Val', u'C.Gly159Val', u'D.Gly159Val', u'A.Gly222Ala', u'B.Gly222Ala', u'C.Gly222Ala', u'D.Gly222Ala', u'A.Asp293Asn', u'B.Asp293Asn', u'C.Asp293Asn', u'D.Asp293Asn', u'A.Gly263Arg', u'B.Gly263Arg', u'C.Gly263Arg', u'D.Gly263Arg', u'A.Gly263Trp', u'B.Gly263Trp', u'C.Gly263Trp', u'D.Gly263Trp', u'A.Val288Leu', u'B.Val288Leu', u'C.Val288Leu', u'D.Val288Leu', u'A.Ala295Val', u'B.Ala295Val', u'C.Ala295Val', u'D.Ala295Val', u'A.Ile310Asn', u'B.Ile310Asn', u'C.Ile310Asn', u'D.Ile310Asn', u'A.Glu315Lys', u'B.Glu315Lys', u'C.Glu315Lys', u'D.Glu315Lys', u'A.Asp331Asn', u'B.Asp331Asn', u'C.Asp331Asn', u'D.Asp331Asn', u'A.Gly341Asp', u'B.Gly341Asp', u'C.Gly341Asp', u'D.Gly341Asp', u'A.Ile342Phe', u'B.Ile342Phe', u'C.Ile342Phe', u'D.Ile342Phe', u'A.Lys348Asn', u'B.Lys348Asn', u'C.Lys348Asn', u'D.Lys348Asn', u'A.Gly364Asp', u'B.Gly364Asp', u'C.Gly364Asp', u'D.Gly364Asp', u'A.Ser376Ile', u'B.Ser376Ile', u'C.Ser376Ile', u'D.Ser376Ile', u'A.Glu387Gly', u'B.Glu387Gly', u'C.Glu387Gly', u'D.Glu387Gly', u'A.Asp390Asn', u'B.Asp390Asn', u'C.Asp390Asn', u'D.Asp390Asn', u'A.Ala394Asp', u'B.Ala394Asp', u'C.Ala394Asp', u'D.Ala394Asp', u'A.Ala394Val', u'B.Ala394Val', u'C.Ala394Val', u'D.Ala394Val', u'A.Thr408Ala', u'B.Thr408Ala', u'C.Thr408Ala', u'D.Thr408Ala', u'A.Glu427Ala', u'B.Glu427Ala', u'C.Glu427Ala', u'D.Glu427Ala', u'A.Glu427Asp', u'B.Glu427Asp', u'C.Glu427Asp', u'D.Glu427Asp', u'A.Thr477Ala', u'B.Thr477Ala', u'C.Thr477Ala', u'D.Thr477Ala', u'A.Ser485Phe', u'B.Ser485Phe', u'C.Ser485Phe', u'D.Ser485Phe', u'A.Arg488Gln', u'B.Arg488Gln', u'C.Arg488Gln', u'D.Arg488Gln', u'A.Ala495Thr', u'B.Ala495Thr', u'C.Ala495Thr', u'D.Ala495Thr', u'A.Arg504Leu', u'B.Arg504Leu', u'C.Arg504Leu', u'D.Arg504Leu', u'A.Gly511Arg', u'B.Gly511Arg', u'C.Gly511Arg', u'D.Gly511Arg', u'A.Arg531Cys', u'B.Arg531Cys', u'C.Arg531Cys', u'D.Arg531Cys', u'A.Ile153Thr', u'B.Ile153Thr', u'C.Ile153Thr', u'D.Ile153Thr', u'A.Ile219Thr', u'B.Ile219Thr', u'C.Ile219Thr', u'D.Ile219Thr', u'A.Val335Met', u'B.Val335Met', u'C.Val335Met', u'D.Val335Met', u'A.Ala352Asp', u'B.Ala352Asp', u'C.Ala352Asp', u'D.Ala352Asp', u'A.Arg385Trp', u'B.Arg385Trp', u'C.Arg385Trp', u'D.Arg385Trp', u'A.Ala468Gly', u'B.Ala468Gly', u'C.Ala468Gly', u'D.Ala468Gly', u'A.Arg479His', u'B.Arg479His', u'C.Arg479His', u'D.Arg479His', u'A.Gly557Ala', u'B.Gly557Ala', u'C.Gly557Ala', u'D.Gly557Ala', u'A.Arg569Gln', u'B.Arg569Gln', u'C.Arg569Gln', u'D.Arg569Gln', u'A.Val506Ile', u'B.Val506Ile', u'C.Val506Ile', u'D.Val506Ile', u'A.Leu73Pro', u'B.Leu73Pro', u'C.Leu73Pro', u'D.Leu73Pro', u'A.Ala154Thr', u'B.Ala154Thr', u'C.Ala154Thr', u'D.Ala154Thr', u'A.Arg163Leu', u'B.Arg163Leu', u'C.Arg163Leu', u'D.Arg163Leu', u'A.Gly165Val', u'B.Gly165Val', u'C.Gly165Val', u'D.Gly165Val', u'A.Leu272Val', u'B.Leu272Val', u'C.Leu272Val', u'D.Leu272Val', u'A.Val320Leu', u'B.Val320Leu', u'C.Val320Leu', u'D.Val320Leu', u'A.Gly358Glu', u'B.Gly358Glu', u'C.Gly358Glu', u'D.Gly358Glu', u'A.Leu374Pro', u'B.Leu374Pro', u'C.Leu374Pro', u'D.Leu374Pro', u'A.Ile314Thr', u'B.Ile314Thr', u'C.Ile314Thr', u'D.Ile314Thr', u'A.Arg426Trp', u'B.Arg426Trp', u'C.Arg426Trp', u'D.Arg426Trp', u'A.Gly111Arg', u'B.Gly111Arg', u'C.Gly111Arg', u'D.Gly111Arg', u'A.Gly364Asp', u'B.Gly364Asp', u'C.Gly364Asp', u'D.Gly364Asp', u'A.Ala394Asp', u'B.Ala394Asp', u'C.Ala394Asp', u'D.Ala394Asp']\r\n",
      "2018-05-23 19:25:26,916 [MainThread  ] [INFO ]  Writting mutations to: output_mutations_list_txt.txt\r\n"
     ]
    }
   ],
   "source": [
    "#Show log\n",
    "!cat log.out"
   ]
  },
  {
   "cell_type": "code",
   "execution_count": 22,
   "metadata": {},
   "outputs": [
    {
     "name": "stdout",
     "output_type": "stream",
     "text": [
      "A.Met107Thr,B.Met107Thr,C.Met107Thr,D.Met107Thr,A.Val134Asp,B.Val134Asp,C.Val134Asp,D.Val134Asp,A.Leu155Pro,B.Leu155Pro,C.Leu155Pro,D.Leu155Pro,A.Glu172Gln,C.Glu172Gln,D.Glu172Gln,A.Arg163Cys,B.Arg163Cys,C.Arg163Cys,D.Arg163Cys,A.Gly275Arg,B.Gly275Arg,C.Gly275Arg,D.Gly275Arg,A.Asp281Asn,B.Asp281Asn,C.Asp281Asn,D.Asp281Asn,A.Phe287Val,B.Phe287Val,C.Phe287Val,D.Phe287Val,A.Ile314Thr,B.Ile314Thr,C.Ile314Thr,D.Ile314Thr,A.Asp331Glu,B.Asp331Glu,C.Asp331Glu,D.Asp331Glu,A.Gly332Ser,B.Gly332Ser,C.Gly332Ser,D.Gly332Ser,A.Ala336Ser,B.Ala336Ser,C.Ala336Ser,D.Ala336Ser,A.Arg337Pro,B.Arg337Pro,C.Arg337Pro,D.Arg337Pro,A.Arg337Gln,B.Arg337Gln,C.Arg337Gln,D.Arg337Gln,A.Asp339His,B.Asp339His,C.Asp339His,D.Asp339His,A.Gly341Ala,B.Gly341Ala,C.Gly341Ala,D.Gly341Ala,A.Ile357Thr,B.Ile357Thr,C.Ile357Thr,D.Ile357Thr,A.Arg359Cys,B.Arg359Cys,C.Arg359Cys,D.Arg359Cys,A.Arg359His,B.Arg359His,C.Arg359His,D.Arg359His,A.Asn361Asp,B.Asn361Asp,C.Asn361Asp,D.Asn361Asp,A.Val368Phe,B.Val368Phe,C.Val368Phe,D.Val368Phe,A.Thr384Met,B.Thr384Met,C.Thr384Met,D.Thr384Met,A.Ala392Thr,B.Ala392Thr,C.Ala392Thr,D.Ala392Thr,A.Asn393Lys,B.Asn393Lys,C.Asn393Lys,D.Asn393Lys,A.Asn393Ser,B.Asn393Ser,C.Asn393Ser,D.Asn393Ser,A.Thr408Ile,B.Thr408Ile,C.Thr408Ile,D.Thr408Ile,A.Gln421Lys,B.Gln421Lys,C.Gln421Lys,D.Gln421Lys,A.Arg426Gln,B.Arg426Gln,C.Arg426Gln,D.Arg426Gln,A.Arg426Trp,B.Arg426Trp,C.Arg426Trp,D.Arg426Trp,A.Ala431Thr,B.Ala431Thr,C.Ala431Thr,D.Ala431Thr,A.Gly458Asp,B.Gly458Asp,C.Gly458Asp,D.Gly458Asp,A.Ala459Val,B.Ala459Val,C.Ala459Val,D.Ala459Val,A.Val460Met,B.Val460Met,C.Val460Met,D.Val460Met,A.Ala468Val,B.Ala468Val,C.Ala468Val,D.Ala468Val,A.Arg486Trp,B.Arg486Trp,C.Arg486Trp,D.Arg486Trp,A.Arg490Trp,B.Arg490Trp,C.Arg490Trp,D.Arg490Trp,A.Ala495Val,B.Ala495Val,C.Ala495Val,D.Ala495Val,A.Arg498Cys,B.Arg498Cys,C.Arg498Cys,D.Arg498Cys,A.Arg498His,B.Arg498His,C.Arg498His,D.Arg498His,A.Arg510Gln,B.Arg510Gln,C.Arg510Gln,D.Arg510Gln,A.Arg532Gln,B.Arg532Gln,C.Arg532Gln,D.Arg532Gln,A.Arg532Trp,B.Arg532Trp,C.Arg532Trp,D.Arg532Trp,A.Val552Met,B.Val552Met,C.Val552Met,D.Val552Met,A.Arg559Gly,B.Arg559Gly,C.Arg559Gly,D.Arg559Gly,A.Asn566Lys,B.Asn566Lys,C.Asn566Lys,D.Asn566Lys,A.Ser80Pro,B.Ser80Pro,C.Ser80Pro,D.Ser80Pro,A.Arg86Pro,B.Arg86Pro,C.Arg86Pro,D.Arg86Pro,A.Ile90Asn,B.Ile90Asn,C.Ile90Asn,D.Ile90Asn,A.Gly95Arg,B.Gly95Arg,C.Gly95Arg,D.Gly95Arg,A.Gly111Arg,B.Gly111Arg,C.Gly111Arg,D.Gly111Arg,A.Ala115Pro,B.Ala115Pro,C.Ala115Pro,D.Ala115Pro,A.Ser120Phe,B.Ser120Phe,C.Ser120Phe,D.Ser120Phe,A.Ser130Tyr,B.Ser130Tyr,C.Ser130Tyr,D.Ser130Tyr,A.Gly159Val,B.Gly159Val,C.Gly159Val,D.Gly159Val,A.Gly222Ala,B.Gly222Ala,C.Gly222Ala,D.Gly222Ala,A.Asp293Asn,B.Asp293Asn,C.Asp293Asn,D.Asp293Asn,A.Gly263Arg,B.Gly263Arg,C.Gly263Arg,D.Gly263Arg,A.Gly263Trp,B.Gly263Trp,C.Gly263Trp,D.Gly263Trp,A.Val288Leu,B.Val288Leu,C.Val288Leu,D.Val288Leu,A.Ala295Val,B.Ala295Val,C.Ala295Val,D.Ala295Val,A.Ile310Asn,B.Ile310Asn,C.Ile310Asn,D.Ile310Asn,A.Glu315Lys,B.Glu315Lys,C.Glu315Lys,D.Glu315Lys,A.Asp331Asn,B.Asp331Asn,C.Asp331Asn,D.Asp331Asn,A.Gly341Asp,B.Gly341Asp,C.Gly341Asp,D.Gly341Asp,A.Ile342Phe,B.Ile342Phe,C.Ile342Phe,D.Ile342Phe,A.Lys348Asn,B.Lys348Asn,C.Lys348Asn,D.Lys348Asn,A.Gly364Asp,B.Gly364Asp,C.Gly364Asp,D.Gly364Asp,A.Ser376Ile,B.Ser376Ile,C.Ser376Ile,D.Ser376Ile,A.Glu387Gly,B.Glu387Gly,C.Glu387Gly,D.Glu387Gly,A.Asp390Asn,B.Asp390Asn,C.Asp390Asn,D.Asp390Asn,A.Ala394Asp,B.Ala394Asp,C.Ala394Asp,D.Ala394Asp,A.Ala394Val,B.Ala394Val,C.Ala394Val,D.Ala394Val,A.Thr408Ala,B.Thr408Ala,C.Thr408Ala,D.Thr408Ala,A.Glu427Ala,B.Glu427Ala,C.Glu427Ala,D.Glu427Ala,A.Glu427Asp,B.Glu427Asp,C.Glu427Asp,D.Glu427Asp,A.Thr477Ala,B.Thr477Ala,C.Thr477Ala,D.Thr477Ala,A.Ser485Phe,B.Ser485Phe,C.Ser485Phe,D.Ser485Phe,A.Arg488Gln,B.Arg488Gln,C.Arg488Gln,D.Arg488Gln,A.Ala495Thr,B.Ala495Thr,C.Ala495Thr,D.Ala495Thr,A.Arg504Leu,B.Arg504Leu,C.Arg504Leu,D.Arg504Leu,A.Gly511Arg,B.Gly511Arg,C.Gly511Arg,D.Gly511Arg,A.Arg531Cys,B.Arg531Cys,C.Arg531Cys,D.Arg531Cys,A.Ile153Thr,B.Ile153Thr,C.Ile153Thr,D.Ile153Thr,A.Ile219Thr,B.Ile219Thr,C.Ile219Thr,D.Ile219Thr,A.Val335Met,B.Val335Met,C.Val335Met,D.Val335Met,A.Ala352Asp,B.Ala352Asp,C.Ala352Asp,D.Ala352Asp,A.Arg385Trp,B.Arg385Trp,C.Arg385Trp,D.Arg385Trp,A.Ala468Gly,B.Ala468Gly,C.Ala468Gly,D.Ala468Gly,A.Arg479His,B.Arg479His,C.Arg479His,D.Arg479His,A.Gly557Ala,B.Gly557Ala,C.Gly557Ala,D.Gly557Ala,A.Arg569Gln,B.Arg569Gln,C.Arg569Gln,D.Arg569Gln,A.Val506Ile,B.Val506Ile,C.Val506Ile,D.Val506Ile,A.Leu73Pro,B.Leu73Pro,C.Leu73Pro,D.Leu73Pro,A.Ala154Thr,B.Ala154Thr,C.Ala154Thr,D.Ala154Thr,A.Arg163Leu,B.Arg163Leu,C.Arg163Leu,D.Arg163Leu,A.Gly165Val,B.Gly165Val,C.Gly165Val,D.Gly165Val,A.Leu272Val,B.Leu272Val,C.Leu272Val,D.Leu272Val,A.Val320Leu,B.Val320Leu,C.Val320Leu,D.Val320Leu,A.Gly358Glu,B.Gly358Glu,C.Gly358Glu,D.Gly358Glu,A.Leu374Pro,B.Leu374Pro,C.Leu374Pro,D.Leu374Pro,A.Ile314Thr,B.Ile314Thr,C.Ile314Thr,D.Ile314Thr,A.Arg426Trp,B.Arg426Trp,C.Arg426Trp,D.Arg426Trp,A.Gly111Arg,B.Gly111Arg,C.Gly111Arg,D.Gly111Arg,A.Gly364Asp,B.Gly364Asp,C.Gly364Asp,D.Gly364Asp,A.Ala394Asp,B.Ala394Asp,C.Ala394Asp,D.Ala394Asp\n"
     ]
    }
   ],
   "source": [
    "#Show result\n",
    "max_lines = 10\n",
    "with open(output_mutations_list_txt) as f:\n",
    "    lines_list=f.readlines()\n",
    "    print \"\".join([lines_list[x] for x in xrange(min(max_lines, len(lines_list)))])"
   ]
  },
  {
   "cell_type": "code",
   "execution_count": 38,
   "metadata": {},
   "outputs": [
    {
     "name": "stdout",
     "output_type": "stream",
     "text": [
      "./.ipynb_checkpoints\r\n"
     ]
    }
   ],
   "source": [
    "#Clean the directory\n",
    "!find . ! -iname \"*.ipynb\" -exec rm -rf {} 2>/dev/null \\; -print"
   ]
  }
 ],
 "metadata": {
  "kernelspec": {
   "display_name": "Python 2",
   "language": "python",
   "name": "python2"
  },
  "language_info": {
   "codemirror_mode": {
    "name": "ipython",
    "version": 2
   },
   "file_extension": ".py",
   "mimetype": "text/x-python",
   "name": "python",
   "nbconvert_exporter": "python",
   "pygments_lexer": "ipython2",
   "version": "2.7.15"
  }
 },
 "nbformat": 4,
 "nbformat_minor": 2
}
